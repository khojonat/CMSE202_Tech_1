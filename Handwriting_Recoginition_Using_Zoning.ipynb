{
 "cells": [
  {
   "cell_type": "markdown",
   "id": "ad679598",
   "metadata": {},
   "source": [
    "**Image Zoning**"
   ]
  },
  {
   "cell_type": "code",
   "execution_count": 1,
   "id": "8586b3de",
   "metadata": {},
   "outputs": [],
   "source": [
    "import numpy as np\n",
    "from sklearn.datasets import load_digits\n",
    "from sklearn.model_selection import train_test_split\n",
    "import matplotlib.pyplot as plt\n",
    "import collections\n",
    "from sklearn.metrics import classification_report\n",
    "from sklearn.metrics import confusion_matrix"
   ]
  },
  {
   "cell_type": "code",
   "execution_count": 2,
   "id": "6e01e1ae",
   "metadata": {},
   "outputs": [],
   "source": [
    "def cos_similarity(v1,v2):\n",
    "    return np.dot(v1,v2)/np.dot(np.linalg.norm(v1),np.linalg.norm(v2))"
   ]
  },
  {
   "cell_type": "code",
   "execution_count": 3,
   "id": "f5a3a770",
   "metadata": {},
   "outputs": [
    {
     "name": "stdout",
     "output_type": "stream",
     "text": [
      "[2, 12, 22, 50, 51, 54, 57, 75, 77, 84, 113, 115, 116, 132, 142, 152, 180, 181, 184, 187, 205, 207, 214, 241, 243, 244, 258, 268, 278, 306, 307, 310, 313, 331, 333, 340, 369, 371, 372, 388, 398, 408, 436, 437, 440, 443, 461, 463, 470, 499, 501, 502, 518, 528, 538, 566, 567, 570, 573, 591, 593, 600, 629, 631, 632, 648, 658, 668, 696, 697, 700, 703, 721, 723, 730, 759, 761, 762, 778, 788, 798, 826, 827, 830, 833, 851, 853, 860, 889, 891, 892, 907, 917, 927, 953, 956, 959, 977, 979, 986, 1014, 1016, 1017, 1031, 1041, 1051, 1081, 1084, 1102, 1104, 1111, 1140, 1142, 1143, 1159, 1169, 1179, 1207, 1208, 1211, 1214, 1232, 1234, 1241, 1270, 1272, 1273, 1289, 1299, 1309, 1337, 1338, 1341, 1344, 1362, 1364, 1371, 1400, 1402, 1403, 1417, 1427, 1437, 1465, 1466, 1469, 1472, 1490, 1492, 1499, 1528, 1530, 1531, 1547, 1557, 1565, 1593, 1594, 1597, 1600, 1618, 1625, 1654, 1655, 1669, 1679, 1689, 1717, 1718, 1721, 1724, 1742, 1744, 1751, 1780, 1782, 1783]\n"
     ]
    }
   ],
   "source": [
    "digits = load_digits()\n",
    "print([i for i in range(len(digits[\"target\"])) if digits[\"target\"][i]==2])"
   ]
  },
  {
   "cell_type": "code",
   "execution_count": 4,
   "id": "55f0c501",
   "metadata": {},
   "outputs": [
    {
     "data": {
      "text/plain": [
       "array([[ 0.,  0.,  7., 15., 13.,  1.,  0.,  0.],\n",
       "       [ 0.,  8., 13.,  6., 15.,  4.,  0.,  0.],\n",
       "       [ 0.,  2.,  1., 13., 13.,  0.,  0.,  0.],\n",
       "       [ 0.,  0.,  2., 15., 11.,  1.,  0.,  0.],\n",
       "       [ 0.,  0.,  0.,  1., 12., 12.,  1.,  0.],\n",
       "       [ 0.,  0.,  0.,  0.,  1., 10.,  8.,  0.],\n",
       "       [ 0.,  0.,  8.,  4.,  5., 14.,  9.,  0.],\n",
       "       [ 0.,  0.,  7., 13., 13.,  9.,  0.,  0.]])"
      ]
     },
     "execution_count": 4,
     "metadata": {},
     "output_type": "execute_result"
    }
   ],
   "source": [
    "digits[\"images\"][3]"
   ]
  },
  {
   "cell_type": "code",
   "execution_count": 5,
   "id": "35fb9dbc",
   "metadata": {},
   "outputs": [
    {
     "data": {
      "text/plain": [
       "<Figure size 432x288 with 0 Axes>"
      ]
     },
     "metadata": {},
     "output_type": "display_data"
    },
    {
     "data": {
      "image/png": "[encoded data removed]",
      "text/plain": [
       "<Figure size 288x288 with 1 Axes>"
      ]
     },
     "metadata": {
      "needs_background": "light"
     },
     "output_type": "display_data"
    }
   ],
   "source": [
    "plt.gray()\n",
    "plt.matshow(digits.images[3])\n",
    "plt.show()"
   ]
  },
  {
   "cell_type": "code",
   "execution_count": 13,
   "id": "f6f2999c",
   "metadata": {},
   "outputs": [],
   "source": [
    "def dark_zone_Vector(array):\n",
    "    vec=[]\n",
    "    cnt=0\n",
    "    cnt1=0\n",
    "    for row in range(4):\n",
    "        for col in range(4):\n",
    "            if array[row][col]<=3:\n",
    "                cnt+=1\n",
    "        for col in range(4,8):\n",
    "            if array[row][col]<=3:\n",
    "                cnt+=1\n",
    "    vec.append(cnt)\n",
    "    cnt=0\n",
    "    for row in range(8):\n",
    "        for col in range(2,6):\n",
    "            if array[row][col]<=3:\n",
    "                cnt+=1    \n",
    "    vec.append(cnt)\n",
    "\n",
    "    return np.array(vec)\n",
    "\n",
    "    #Splits into 4 zones and counts dark pixels for each zone."
   ]
  },
  {
   "cell_type": "code",
   "execution_count": 14,
   "id": "cabf6b5d",
   "metadata": {},
   "outputs": [
    {
     "name": "stdout",
     "output_type": "stream",
     "text": [
      "[13 10 11]\n",
      "[15  9 16]\n",
      "0.9907485390871893\n"
     ]
    }
   ],
   "source": [
    "print(zone_Vector(digits[\"images\"][0]))\n",
    "print(zone_Vector(digits[\"images\"][1]))\n",
    "print(cos_similarity(zone_Vector(digits[\"images\"][2]),zone_Vector(digits[\"images\"][22])))"
   ]
  },
  {
   "cell_type": "code",
   "execution_count": 15,
   "id": "104c1fe6",
   "metadata": {},
   "outputs": [],
   "source": [
    "train_vectors, test_vectors,train_labels, test_labels = train_test_split(digits[\"images\"],digits[\"target\"], test_size=0.8, random_state=50)"
   ]
  },
  {
   "cell_type": "code",
   "execution_count": 22,
   "id": "078b42ae",
   "metadata": {},
   "outputs": [],
   "source": [
    "def zone_vectors_for_classification(traning_set,training_class_labels):\n",
    "    d={}\n",
    "    cnt=collections.Counter(training_class_labels)\n",
    "    for i in range(len(traning_set)):\n",
    "        if training_class_labels[i] not in d:\n",
    "            d[training_class_labels[i]]=zone_Vector(traning_set[i])\n",
    "        else:\n",
    "            d[training_class_labels[i]]+=zone_Vector(traning_set[i])\n",
    "    for key in d:\n",
    "        d[key]=d[key]/cnt[key]\n",
    "    return d\n",
    "def predict(zone_vec_classifer,image):\n",
    "    max1=-1\n",
    "    classification=-10000\n",
    "    image=zone_Vector(image)\n",
    "    for key in zone_vec_classifer:\n",
    "        if cos_similarity(image,zone_vec_classifer[key])>max1:\n",
    "            max1=cos_similarity(image,zone_vec_classifer[key])\n",
    "            classification=key\n",
    "    return classification\n",
    "    "
   ]
  },
  {
   "cell_type": "code",
   "execution_count": 23,
   "id": "5f53377f",
   "metadata": {},
   "outputs": [
    {
     "data": {
      "text/plain": [
       "{7: array([15.44444444,  9.33333333, 13.41666667]),\n",
       " 0: array([13.09677419,  9.16129032, 12.4516129 ]),\n",
       " 1: array([15.41025641,  9.48717949, 14.56410256]),\n",
       " 9: array([15.07894737,  8.92105263, 12.28947368]),\n",
       " 4: array([13.73529412,  9.64705882, 14.08823529]),\n",
       " 8: array([15.        ,  5.60606061, 14.6969697 ]),\n",
       " 2: array([14.56410256,  8.84615385, 14.28205128]),\n",
       " 3: array([15.05 ,  8.225, 14.175]),\n",
       " 5: array([13.48648649,  8.83783784, 14.48648649]),\n",
       " 6: array([14.90625,  9.5625 , 12.96875])}"
      ]
     },
     "execution_count": 23,
     "metadata": {},
     "output_type": "execute_result"
    }
   ],
   "source": [
    "zone_vecs_classifiers=zone_vectors_for_classification(train_vectors,train_labels)\n",
    "zone_vecs_classifiers"
   ]
  },
  {
   "cell_type": "code",
   "execution_count": 24,
   "id": "adfc01b4",
   "metadata": {},
   "outputs": [
    {
     "name": "stdout",
     "output_type": "stream",
     "text": [
      "[5, 8, 6, 6, 2, 6, 3, 0, 9, 0, 8, 6, 9, 2, 9, 7, 4, 3, 4, 3, 6, 0, 8, 0, 0, 0, 9, 5, 3, 6, 8, 4, 7, 5, 4, 5, 8, 9, 1, 8, 0, 0, 0, 3, 4, 2, 8, 3, 9, 4, 9, 3, 9, 5, 8, 9, 4, 5, 8, 4, 8, 7, 1, 4, 4, 8, 4, 8, 9, 5, 9, 6, 4, 4, 3, 3, 5, 8, 4, 9, 4, 9, 9, 3, 0, 8, 3, 8, 4, 4, 8, 8, 8, 8, 0, 4, 8, 6, 8, 3, 0, 4, 0, 4, 5, 0, 2, 6, 8, 4, 8, 4, 9, 5, 3, 4, 9, 3, 0, 8, 4, 4, 5, 9, 9, 9, 0, 8, 3, 9, 3, 3, 8, 0, 7, 2, 5, 0, 2, 3, 8, 4, 6, 0, 2, 9, 6, 0, 4, 8, 3, 4, 9, 8, 0, 8, 5, 9, 0, 5, 0, 6, 3, 7, 8, 9, 9, 3, 3, 4, 5, 9, 7, 2, 9, 9, 6, 2, 6, 4, 7, 5, 5, 9, 8, 0, 0, 5, 0, 3, 4, 8, 8, 0, 2, 8, 6, 9, 6, 3, 3, 9, 4, 8, 4, 4, 8, 2, 9, 0, 3, 1, 7, 3, 2, 5, 4, 3, 3, 8, 7, 4, 8, 8, 3, 5, 9, 2, 5, 3, 5, 3, 8, 5, 8, 8, 4, 0, 2, 9, 0, 7, 3, 8, 7, 9, 6, 3, 8, 9, 0, 2, 6, 4, 8, 4, 4, 9, 6, 3, 3, 0, 9, 8, 5, 3, 8, 4, 3, 1, 9, 9, 4, 3, 8, 9, 0, 3, 9, 4, 4, 7, 4, 3, 5, 6, 6, 8, 5, 9, 1, 8, 9, 9, 1, 0, 1, 6, 8, 5, 0, 8, 4, 8, 0, 4, 4, 5, 8, 3, 5, 8, 5, 0, 5, 9, 4, 4, 5, 3, 0, 3, 4, 5, 9, 3, 3, 4, 0, 8, 8, 2, 5, 0, 3, 0, 3, 6, 0, 3, 0, 8, 0, 6, 0, 8, 8, 3, 3, 9, 3, 0, 5, 2, 2, 0, 5, 0, 0, 8, 0, 4, 5, 0, 8, 3, 3, 3, 4, 1, 8, 8, 0, 5, 3, 2, 3, 5, 9, 3, 8, 0, 3, 2, 3, 3, 0, 6, 6, 0, 8, 8, 0, 7, 7, 8, 2, 4, 5, 0, 5, 5, 0, 8, 0, 9, 6, 5, 9, 3, 6, 3, 0, 3, 9, 3, 7, 8, 8, 6, 9, 4, 8, 4, 9, 8, 6, 3, 8, 9, 8, 3, 9, 6, 5, 4, 0, 0, 3, 8, 9, 3, 8, 3, 0, 3, 8, 4, 3, 3, 2, 8, 0, 0, 0, 3, 9, 0, 5, 8, 4, 6, 3, 5, 8, 3, 0, 0, 6, 4, 0, 4, 4, 8, 6, 0, 9, 5, 8, 8, 0, 4, 3, 8, 8, 8, 7, 3, 8, 3, 5, 4, 8, 0, 8, 3, 4, 0, 0, 5, 8, 7, 4, 3, 2, 4, 5, 0, 2, 9, 8, 0, 8, 9, 4, 3, 9, 1, 8, 9, 2, 3, 5, 8, 9, 4, 8, 6, 4, 5, 8, 9, 3, 3, 9, 0, 8, 0, 0, 0, 4, 3, 9, 3, 3, 8, 4, 8, 0, 1, 9, 3, 8, 5, 5, 9, 9, 2, 9, 6, 8, 0, 3, 2, 4, 8, 1, 8, 2, 8, 9, 8, 3, 5, 1, 3, 9, 3, 0, 6, 0, 0, 8, 2, 9, 8, 9, 3, 8, 6, 8, 3, 0, 6, 4, 8, 8, 0, 0, 6, 0, 8, 3, 0, 9, 8, 0, 3, 6, 5, 2, 8, 8, 0, 4, 5, 8, 8, 9, 9, 4, 2, 8, 5, 7, 0, 9, 0, 8, 7, 0, 8, 4, 6, 5, 3, 3, 0, 1, 6, 8, 6, 3, 8, 9, 0, 6, 4, 9, 9, 5, 8, 0, 6, 9, 2, 3, 8, 6, 8, 3, 9, 8, 9, 6, 8, 3, 5, 8, 5, 8, 4, 8, 6, 8, 2, 3, 5, 5, 2, 0, 9, 0, 6, 3, 8, 5, 4, 0, 6, 2, 4, 1, 4, 8, 2, 4, 0, 6, 0, 4, 4, 3, 5, 9, 5, 0, 8, 5, 3, 4, 3, 9, 7, 4, 4, 9, 8, 8, 0, 4, 9, 9, 8, 3, 3, 6, 8, 3, 5, 6, 0, 0, 0, 3, 8, 0, 4, 1, 0, 4, 0, 8, 0, 3, 9, 5, 0, 9, 3, 8, 8, 3, 6, 3, 2, 8, 8, 8, 8, 0, 2, 8, 5, 3, 3, 8, 0, 1, 3, 2, 4, 8, 3, 2, 2, 9, 3, 3, 5, 9, 0, 3, 0, 8, 3, 3, 9, 5, 5, 3, 3, 3, 4, 5, 0, 8, 0, 8, 8, 2, 4, 6, 8, 8, 4, 0, 0, 5, 4, 2, 5, 5, 7, 0, 5, 3, 0, 3, 8, 3, 5, 4, 5, 8, 3, 8, 4, 9, 8, 0, 3, 8, 3, 2, 3, 8, 8, 6, 4, 0, 5, 2, 8, 9, 9, 8, 6, 8, 1, 3, 5, 9, 3, 8, 4, 4, 0, 5, 1, 3, 1, 6, 0, 9, 7, 0, 0, 4, 4, 0, 5, 8, 8, 8, 8, 5, 8, 3, 1, 4, 4, 8, 1, 3, 4, 4, 3, 2, 3, 6, 3, 4, 9, 3, 6, 0, 8, 4, 4, 3, 2, 4, 3, 7, 3, 8, 2, 9, 3, 5, 8, 9, 0, 5, 1, 4, 0, 8, 5, 8, 9, 3, 3, 6, 3, 3, 4, 2, 0, 0, 8, 3, 5, 0, 0, 3, 3, 8, 0, 3, 3, 5, 8, 9, 9, 5, 7, 9, 3, 5, 8, 0, 6, 4, 1, 5, 8, 3, 0, 5, 3, 8, 2, 4, 8, 2, 8, 8, 2, 3, 0, 8, 3, 3, 8, 3, 0, 3, 8, 0, 8, 9, 8, 3, 3, 0, 8, 8, 3, 3, 3, 3, 4, 3, 5, 5, 9, 3, 0, 4, 0, 6, 3, 8, 8, 8, 4, 6, 8, 5, 9, 4, 0, 4, 3, 0, 3, 6, 6, 5, 8, 8, 8, 0, 9, 5, 8, 9, 8, 8, 8, 5, 0, 3, 2, 3, 8, 8, 9, 0, 8, 9, 9, 7, 0, 0, 8, 0, 2, 5, 8, 3, 8, 1, 0, 3, 1, 6, 5, 3, 8, 6, 0, 5, 9, 3, 4, 4, 8, 8, 3, 4, 4, 9, 5, 3, 1, 0, 5, 8, 8, 0, 4, 0, 4, 3, 2, 2, 3, 8, 0, 3, 4, 6, 6, 3, 0, 0, 9, 3, 2, 9, 4, 0, 0, 9, 5, 5, 4, 0, 3, 4, 9, 3, 0, 0, 0, 3, 5, 0, 8, 3, 0, 9, 0, 8, 5, 0, 9, 5, 8, 3, 6, 0, 5, 9, 3, 3, 4, 3, 1, 9, 0, 9, 9, 9, 4, 4, 4, 1, 0, 5, 8, 9, 8, 2, 0, 8, 8, 2, 5, 4, 4, 0, 4, 0, 9, 3, 0, 0, 5, 8, 7, 4, 0, 8, 5, 9, 8, 9, 8, 0, 6, 8, 3, 0, 4, 8, 0, 5, 0, 0, 0, 7, 3, 0, 5, 4, 8, 9, 6, 9, 0, 9, 3, 8, 4, 7, 8, 2, 5, 1, 9, 3, 0, 3, 9, 1, 9, 8, 3, 4, 8, 8, 8, 8, 3, 2, 5, 4, 5, 0, 5, 6, 5, 5, 9, 3, 0, 5, 4, 0, 8, 4, 3, 9, 0, 0, 9, 0, 0, 5, 3, 5, 0, 6, 4, 8, 3, 4, 9, 8, 3, 0, 5, 9, 5, 5, 0, 4, 8, 8, 3, 8, 3, 0, 5, 3, 5, 8, 8, 8, 0, 2, 3, 5, 8, 6, 4, 6, 8, 5, 3, 5, 8, 0, 0, 4, 5, 9, 8, 8, 4, 8, 3, 0, 4, 0, 9, 8, 9, 0, 6, 5, 0, 6, 9, 4, 3, 5, 3, 3, 1, 5, 0, 4, 9, 3, 9, 4, 3, 6, 3, 2, 8, 3, 0, 3, 0, 6, 8, 0, 0, 3, 0, 3, 4, 3, 8, 0, 3, 4, 6, 6, 6, 0, 0, 0, 4, 0, 4, 3, 0, 1, 8, 3, 5, 4, 2, 0, 8, 8, 0, 1, 9, 4, 9, 8, 9, 0, 5, 2, 4, 8, 9, 8, 7, 9, 8, 5, 0, 4, 5, 5, 0, 4, 0, 3, 9, 4, 4, 9, 6, 4, 1, 6, 8, 6, 8, 6, 3, 9, 3, 6, 3, 6, 5, 5, 3, 8, 8, 4, 3, 0, 3, 3, 8, 0, 8, 8, 0, 8, 8, 9, 5, 8, 8]\n",
      "[8 3 7 ... 2 8 8]\n",
      "              precision    recall  f1-score   support\n",
      "\n",
      "           0       0.20      0.31      0.24       147\n",
      "           1       0.03      0.01      0.01       143\n",
      "           2       0.18      0.09      0.12       138\n",
      "           3       0.15      0.24      0.18       143\n",
      "           4       0.23      0.27      0.25       147\n",
      "           5       0.22      0.23      0.23       145\n",
      "           6       0.16      0.10      0.12       149\n",
      "           7       0.17      0.03      0.06       143\n",
      "           8       0.35      0.68      0.46       141\n",
      "           9       0.24      0.27      0.25       142\n",
      "\n",
      "    accuracy                           0.22      1438\n",
      "   macro avg       0.19      0.22      0.19      1438\n",
      "weighted avg       0.19      0.22      0.19      1438\n",
      "\n",
      "[[46  5 11 21 21 15 10  1 10  7]\n",
      " [23  1  4 18 17 11  6  0 48 15]\n",
      " [20  1 12 26 24 21  5  0 16 13]\n",
      " [26 10  6 35  8  2  8 10 32  6]\n",
      " [42  3  7  5 39 38  7  0  3  3]\n",
      " [ 9  2  3 27 39 33  1  2 25  4]\n",
      " [32  2  5 26  8  8 15  6 11 36]\n",
      " [16  6  7 31  8  5 19  5 11 35]\n",
      " [ 2  1  5 26  1  6  2  0 96  2]\n",
      " [14  3  5 23  4  8 18  5 24 38]]\n"
     ]
    }
   ],
   "source": [
    "predict_vectors = test_vectors\n",
    "true_labels = test_labels\n",
    "\n",
    "pred_labels = [predict(zone_vecs_classifiers,image) for image in test_vectors]\n",
    "\n",
    "print(pred_labels)\n",
    "print(true_labels)\n",
    "\n",
    "print(classification_report(true_labels, pred_labels))\n",
    "print(confusion_matrix(true_labels, pred_labels, labels=range(10)))"
   ]
  },
  {
   "cell_type": "code",
   "execution_count": null,
   "id": "75d32341",
   "metadata": {},
   "outputs": [],
   "source": []
  },
  {
   "cell_type": "code",
   "execution_count": null,
   "id": "87077e6f",
   "metadata": {},
   "outputs": [],
   "source": []
  }
 ],
 "metadata": {
  "kernelspec": {
   "display_name": "Python 3",
   "language": "python",
   "name": "python3"
  },
  "language_info": {
   "codemirror_mode": {
    "name": "ipython",
    "version": 3
   },
   "file_extension": ".py",
   "mimetype": "text/x-python",
   "name": "python",
   "nbconvert_exporter": "python",
   "pygments_lexer": "ipython3",
   "version": "3.8.8"
  }
 },
 "nbformat": 4,
 "nbformat_minor": 5
}
