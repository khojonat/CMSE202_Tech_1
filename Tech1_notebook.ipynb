{
 "cells": [
  {
   "cell_type": "markdown",
   "id": "a6f513fe",
   "metadata": {},
   "source": [
    "Jonathan, Greg, Sara, Evan"
   ]
  },
  {
   "cell_type": "markdown",
   "id": "1b70c8e8",
   "metadata": {},
   "source": [
    "Digit recognition methods: 1 layer perceptron, multi-layer perceptron, CNNS, Scuffed comparison method (Evan's idea)"
   ]
  }
 ],
 "metadata": {
  "kernelspec": {
   "display_name": "Python 3 (ipykernel)",
   "language": "python",
   "name": "python3"
  },
  "language_info": {
   "codemirror_mode": {
    "name": "ipython",
    "version": 3
   },
   "file_extension": ".py",
   "mimetype": "text/x-python",
   "name": "python",
   "nbconvert_exporter": "python",
   "pygments_lexer": "ipython3",
   "version": "3.8.11"
  }
 },
 "nbformat": 4,
 "nbformat_minor": 5
}
