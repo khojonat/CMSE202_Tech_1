{
 "cells": [
  {
   "cell_type": "code",
   "execution_count": 1,
   "id": "f44de230",
   "metadata": {},
   "outputs": [],
   "source": [
    "import matplotlib.pyplot as plt\n",
    "from PIL import Image\n",
    "import urllib\n",
    "import io\n",
    "import numpy as np\n",
    "from sklearn.datasets import fetch_openml\n",
    "from sklearn.metrics import classification_report\n",
    "from sklearn.metrics import confusion_matrix\n",
    "from sklearn.svm import SVC\n",
    "from sklearn.model_selection import train_test_split"
   ]
  },
  {
   "cell_type": "code",
   "execution_count": 2,
   "id": "3b9626b4",
   "metadata": {},
   "outputs": [],
   "source": [
    "urls = ['https://i.ibb.co/4jQ5vvf/garfield-cropped-transparent.png',\n",
    "       'https://i.ibb.co/BfJNCkW/garfield3-removebg-preview.png',\n",
    "       'https://i.ibb.co/GMhtZgx/garfield5-removebg-preview.png',\n",
    "       'https://i.ibb.co/XXkJdjB/garfield6-removebg-preview.png',\n",
    "       'https://i.ibb.co/HNgsyNc/garfield7.png']"
   ]
  },
  {
   "cell_type": "code",
   "execution_count": 3,
   "id": "fff8dd3c",
   "metadata": {},
   "outputs": [],
   "source": [
    "def read(url):\n",
    "    garfield_file = urllib.request.urlopen(url)\n",
    "    garfield_file = io.BytesIO(garfield_file.read())\n",
    "    garfield = Image.open(garfield_file)\n",
    "    garfield = garfield.resize((28,28))\n",
    "    garfield = garfield.convert('L')\n",
    "    garfield = np.array(garfield)\n",
    "    return garfield"
   ]
  },
  {
   "cell_type": "code",
   "execution_count": 4,
   "id": "85e25aa6",
   "metadata": {
    "scrolled": true
   },
   "outputs": [],
   "source": [
    "garfields = [read(url) for url in urls]\n",
    "garfields = np.array(garfields).reshape((28,28,5))\n",
    "for augmentation in [np.rot90(garfields), np.rot90(garfields, 2), np.rot90(garfields, 3), np.flipud(garfields), np.fliplr(garfields)]:\n",
    "    garfields = np.append(garfields, augmentation, axis=2)\n",
    "garfields = garfields.reshape((30,28,28))\n",
    "garfields = garfields.reshape((30,784))\n",
    "garfields = garfields.T"
   ]
  },
  {
   "cell_type": "code",
   "execution_count": 5,
   "id": "6207b106",
   "metadata": {},
   "outputs": [],
   "source": [
    "mnist = fetch_openml('mnist_784')"
   ]
  },
  {
   "cell_type": "code",
   "execution_count": 6,
   "id": "ec6b895d",
   "metadata": {},
   "outputs": [],
   "source": [
    "mnist_array = np.array(mnist.data)"
   ]
  },
  {
   "cell_type": "code",
   "execution_count": 7,
   "id": "95ae293a",
   "metadata": {},
   "outputs": [],
   "source": [
    "mnist_array = mnist_array.reshape((70000, 28 * 28))"
   ]
  },
  {
   "cell_type": "code",
   "execution_count": 8,
   "id": "d8004a7e",
   "metadata": {},
   "outputs": [],
   "source": [
    "mnist_labels = np.array(mnist.target, dtype='int32')"
   ]
  },
  {
   "cell_type": "code",
   "execution_count": 9,
   "id": "3b3e8c9a",
   "metadata": {},
   "outputs": [],
   "source": [
    "x_train, x_test, y_train, y_test = train_test_split(mnist_array, mnist_labels)"
   ]
  },
  {
   "cell_type": "code",
   "execution_count": 10,
   "id": "71fb9554",
   "metadata": {},
   "outputs": [
    {
     "data": {
      "text/plain": [
       "(52500, 784)"
      ]
     },
     "execution_count": 10,
     "metadata": {},
     "output_type": "execute_result"
    }
   ],
   "source": [
    "x_train.shape"
   ]
  },
  {
   "cell_type": "code",
   "execution_count": 11,
   "id": "ed345514",
   "metadata": {},
   "outputs": [],
   "source": [
    "num_garfields = garfields.shape[1]"
   ]
  },
  {
   "cell_type": "code",
   "execution_count": 12,
   "id": "ef978381",
   "metadata": {},
   "outputs": [],
   "source": [
    "transformed_x_train = np.zeros((len(x_train), num_garfields))\n",
    "transformed_x_test = np.zeros((len(x_test), num_garfields))"
   ]
  },
  {
   "cell_type": "code",
   "execution_count": 13,
   "id": "03a93c0e",
   "metadata": {},
   "outputs": [
    {
     "name": "stderr",
     "output_type": "stream",
     "text": [
      "<ipython-input-13-c29550df7b8d>:2: FutureWarning: `rcond` parameter will change to the default of machine precision times ``max(M, N)`` where M and N are the input matrix dimensions.\n",
      "To use the future default and silence this warning we advise to pass `rcond=None`, to keep using the old, explicitly pass `rcond=-1`.\n",
      "  transformed_x_train[i,:] = np.linalg.lstsq(garfields, image)[0]\n"
     ]
    }
   ],
   "source": [
    "for i, image in enumerate(x_train):\n",
    "    transformed_x_train[i,:] = np.linalg.lstsq(garfields, image)[0]"
   ]
  },
  {
   "cell_type": "code",
   "execution_count": 14,
   "id": "40020277",
   "metadata": {},
   "outputs": [
    {
     "name": "stderr",
     "output_type": "stream",
     "text": [
      "<ipython-input-14-f3bd952a7578>:2: FutureWarning: `rcond` parameter will change to the default of machine precision times ``max(M, N)`` where M and N are the input matrix dimensions.\n",
      "To use the future default and silence this warning we advise to pass `rcond=None`, to keep using the old, explicitly pass `rcond=-1`.\n",
      "  transformed_x_test[i,:] = np.linalg.lstsq(garfields, image)[0]\n"
     ]
    }
   ],
   "source": [
    "for i, image in enumerate(x_test):\n",
    "    transformed_x_test[i,:] = np.linalg.lstsq(garfields, image)[0] "
   ]
  },
  {
   "cell_type": "code",
   "execution_count": 15,
   "id": "e9a743c0",
   "metadata": {},
   "outputs": [],
   "source": [
    "clf = SVC()"
   ]
  },
  {
   "cell_type": "code",
   "execution_count": 16,
   "id": "7a554650",
   "metadata": {},
   "outputs": [
    {
     "data": {
      "text/plain": [
       "SVC()"
      ]
     },
     "execution_count": 16,
     "metadata": {},
     "output_type": "execute_result"
    }
   ],
   "source": [
    "clf.fit(transformed_x_train, y_train)"
   ]
  },
  {
   "cell_type": "code",
   "execution_count": 17,
   "id": "c73f0a6a",
   "metadata": {},
   "outputs": [],
   "source": [
    "preds = clf.predict(transformed_x_test)"
   ]
  },
  {
   "cell_type": "code",
   "execution_count": 18,
   "id": "194874c6",
   "metadata": {},
   "outputs": [
    {
     "name": "stdout",
     "output_type": "stream",
     "text": [
      "              precision    recall  f1-score   support\n",
      "\n",
      "           0       0.98      0.99      0.98      1712\n",
      "           1       0.97      0.99      0.98      1932\n",
      "           2       0.95      0.95      0.95      1850\n",
      "           3       0.94      0.94      0.94      1716\n",
      "           4       0.95      0.95      0.95      1735\n",
      "           5       0.94      0.93      0.93      1601\n",
      "           6       0.97      0.98      0.98      1657\n",
      "           7       0.96      0.95      0.96      1855\n",
      "           8       0.94      0.92      0.93      1734\n",
      "           9       0.92      0.93      0.92      1708\n",
      "\n",
      "    accuracy                           0.95     17500\n",
      "   macro avg       0.95      0.95      0.95     17500\n",
      "weighted avg       0.95      0.95      0.95     17500\n",
      "\n",
      "[[1688    1    6    2    1    0    6    4    3    1]\n",
      " [   0 1907    8    2    3    4    0    1    4    3]\n",
      " [   6    6 1750   15   11    6   12   20   22    2]\n",
      " [   1    5   25 1606    5   26    2   12   19   15]\n",
      " [   3    5    9    1 1645    0   11    4    2   55]\n",
      " [   4    5    4   37    6 1488   13    4   27   13]\n",
      " [   4    4    4    0    3    8 1628    0    6    0]\n",
      " [   0    6   22    7   13    3    0 1763    2   39]\n",
      " [  13   14    8   29   10   41    5    2 1594   18]\n",
      " [   9    9    4   13   41   10    2   22    9 1589]]\n"
     ]
    }
   ],
   "source": [
    "print(classification_report(y_test, preds))\n",
    "print(confusion_matrix(y_test, preds))"
   ]
  },
  {
   "cell_type": "code",
   "execution_count": 45,
   "id": "a1e7904a",
   "metadata": {},
   "outputs": [
    {
     "data": {
      "text/plain": [
       "<matplotlib.image.AxesImage at 0x7f1e7e4009d0>"
      ]
     },
     "execution_count": 45,
     "metadata": {},
     "output_type": "execute_result"
    },
    {
     "data": {
      "image/png": "[encoded data removed]",
      "text/plain": [
       "<Figure size 432x288 with 1 Axes>"
      ]
     },
     "metadata": {
      "needs_background": "light"
     },
     "output_type": "display_data"
    }
   ],
   "source": [
    "plt.imshow((garfields@transformed_x_test[1]).reshape(28,28), cmap='gray')"
   ]
  },
  {
   "cell_type": "code",
   "execution_count": 47,
   "id": "184e24b6",
   "metadata": {},
   "outputs": [
    {
     "data": {
      "text/plain": [
       "<matplotlib.image.AxesImage at 0x7f1ee2311bb0>"
      ]
     },
     "execution_count": 47,
     "metadata": {},
     "output_type": "execute_result"
    },
    {
     "data": {
      "image/png": "[encoded data removed]",
      "text/plain": [
       "<Figure size 432x288 with 1 Axes>"
      ]
     },
     "metadata": {
      "needs_background": "light"
     },
     "output_type": "display_data"
    }
   ],
   "source": [
    "plt.imshow(x_test[1].reshape(28,28), cmap='gray')"
   ]
  },
  {
   "cell_type": "code",
   "execution_count": null,
   "id": "9eaec26b",
   "metadata": {},
   "outputs": [],
   "source": []
  }
 ],
 "metadata": {
  "kernelspec": {
   "display_name": "Python 3",
   "language": "python",
   "name": "python3"
  },
  "language_info": {
   "codemirror_mode": {
    "name": "ipython",
    "version": 3
   },
   "file_extension": ".py",
   "mimetype": "text/x-python",
   "name": "python",
   "nbconvert_exporter": "python",
   "pygments_lexer": "ipython3",
   "version": "3.8.8"
  }
 },
 "nbformat": 4,
 "nbformat_minor": 5
}
