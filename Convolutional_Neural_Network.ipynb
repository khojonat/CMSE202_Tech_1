{
 "cells": [
  {
   "cell_type": "markdown",
   "id": "f32f8f13",
   "metadata": {},
   "source": [
    "# Convolutional Neural Network\n"
   ]
  },
  {
   "cell_type": "code",
   "execution_count": 1,
   "id": "b2e9f981",
   "metadata": {},
   "outputs": [],
   "source": [
    "import matplotlib.pyplot as plt\n",
    "import numpy as np\n",
    "import tensorflow as tf\n",
    "from tensorflow import keras\n",
    "from tensorflow.keras import layers\n",
    "%matplotlib inline"
   ]
  },
  {
   "cell_type": "markdown",
   "id": "400d1cf5",
   "metadata": {},
   "source": [
    "### What is a convolutional neural network?\n",
    "\n",
    "A convolutional neural network differs from a perceptron in that it has additional layers dedicated to compressing the input into more easily processable forms, while still keeping features critical for prediction. This is accomplished with the use of a kernel matrix. The kernel matrix is some matrix with a size and entries determined by the user to be multiplied by certain regions of the input matrix, and whose output is then entered into the output matrix. "
   ]
  },
  {
   "cell_type": "markdown",
   "id": "46d41e1c",
   "metadata": {},
   "source": [
    "For example, if our input matrix was a 5 x 5 x 1 matrix:"
   ]
  },
  {
   "cell_type": "code",
   "execution_count": 2,
   "id": "9ba06a50",
   "metadata": {},
   "outputs": [
    {
     "data": {
      "text/plain": [
       "<matplotlib.image.AxesImage at 0x7fb41f180df0>"
      ]
     },
     "execution_count": 2,
     "metadata": {},
     "output_type": "execute_result"
    },
    {
     "data": {
      "image/png": "[encoded data removed]",
      "text/plain": [
       "<Figure size 432x288 with 1 Axes>"
      ]
     },
     "metadata": {
      "needs_background": "light"
     },
     "output_type": "display_data"
    }
   ],
   "source": [
    "Input = np.array([np.random.uniform(0,1,5),\n",
    "                  np.random.uniform(0,1,5),\n",
    "                  np.random.uniform(0,1,5),\n",
    "                  np.random.uniform(0,1,5),\n",
    "                  np.random.uniform(0,1,5)])\n",
    "plt.imshow(Input)"
   ]
  },
  {
   "cell_type": "markdown",
   "id": "69212fd1",
   "metadata": {},
   "source": [
    "We can choose a kernal matrix of size 3 x 3 to multiply by each 3 x 3 region of our input matrix, and place the resulting values into a new matrix."
   ]
  },
  {
   "cell_type": "code",
   "execution_count": 3,
   "id": "0659d85f",
   "metadata": {
    "scrolled": true
   },
   "outputs": [
    {
     "data": {
      "text/plain": [
       "<matplotlib.image.AxesImage at 0x7fb41f3deee0>"
      ]
     },
     "execution_count": 3,
     "metadata": {},
     "output_type": "execute_result"
    },
    {
     "data": {
      "image/png": "[encoded data removed]",
      "text/plain": [
       "<Figure size 432x288 with 1 Axes>"
      ]
     },
     "metadata": {
      "needs_background": "light"
     },
     "output_type": "display_data"
    }
   ],
   "source": [
    "kernel = np.array([[1,0,1],\n",
    "                  [0,1,0],\n",
    "                  [1,0,1]])\n",
    "plt.imshow(kernel)"
   ]
  },
  {
   "cell_type": "markdown",
   "id": "528c1e3a",
   "metadata": {},
   "source": [
    "Let's consider the entries in the first 3 rows and columns of our Input matrix:"
   ]
  },
  {
   "cell_type": "code",
   "execution_count": 4,
   "id": "71910350",
   "metadata": {},
   "outputs": [],
   "source": [
    "product = np.matmul(Input[:3,:3],kernel)"
   ]
  },
  {
   "cell_type": "code",
   "execution_count": 5,
   "id": "f9708013",
   "metadata": {},
   "outputs": [
    {
     "data": {
      "text/plain": [
       "<matplotlib.image.AxesImage at 0x7fb41446b310>"
      ]
     },
     "execution_count": 5,
     "metadata": {},
     "output_type": "execute_result"
    },
    {
     "data": {
      "image/png": "[encoded data removed]",
      "text/plain": [
       "<Figure size 432x288 with 1 Axes>"
      ]
     },
     "metadata": {
      "needs_background": "light"
     },
     "output_type": "display_data"
    }
   ],
   "source": [
    "plt.imshow(product)"
   ]
  },
  {
   "cell_type": "code",
   "execution_count": null,
   "id": "3cfb9b9d",
   "metadata": {},
   "outputs": [],
   "source": []
  },
  {
   "cell_type": "code",
   "execution_count": null,
   "id": "754f51c2",
   "metadata": {},
   "outputs": [],
   "source": [
    "\n",
    "\n",
    "\n",
    "\n",
    "\n",
    "\n",
    "\n",
    "\n",
    "\n",
    "\n",
    "\n"
   ]
  },
  {
   "cell_type": "code",
   "execution_count": 6,
   "id": "26db100c",
   "metadata": {},
   "outputs": [],
   "source": [
    "(x_train, y_train), (x_test, y_test) = tf.keras.datasets.mnist.load_data()"
   ]
  },
  {
   "cell_type": "code",
   "execution_count": 7,
   "id": "ece46db2",
   "metadata": {
    "scrolled": true
   },
   "outputs": [
    {
     "data": {
      "image/png": "[encoded data removed]",
      "text/plain": [
       "<Figure size 432x288 with 1 Axes>"
      ]
     },
     "metadata": {
      "needs_background": "light"
     },
     "output_type": "display_data"
    }
   ],
   "source": [
    "image = x_train[1]\n",
    "plt.imshow(image)\n",
    "plt.show()"
   ]
  },
  {
   "cell_type": "code",
   "execution_count": 8,
   "id": "7aac3f80",
   "metadata": {},
   "outputs": [
    {
     "data": {
      "text/plain": [
       "(28, 28)"
      ]
     },
     "execution_count": 8,
     "metadata": {},
     "output_type": "execute_result"
    }
   ],
   "source": [
    "image.shape"
   ]
  },
  {
   "cell_type": "code",
   "execution_count": 9,
   "id": "ccb4a4f3",
   "metadata": {},
   "outputs": [
    {
     "name": "stdout",
     "output_type": "stream",
     "text": [
      "x_train shape: (60000, 28, 28, 1)\n",
      "60000 train samples\n",
      "10000 test samples\n"
     ]
    }
   ],
   "source": [
    "# Model / data parameters\n",
    "num_classes = 10\n",
    "input_shape = (28, 28, 1)\n",
    "\n",
    "# Scale images to the [0, 1] range\n",
    "x_train = x_train.astype(\"float32\") / 255\n",
    "x_test = x_test.astype(\"float32\") / 255\n",
    "# Make sure images have shape (28, 28, 1)\n",
    "x_train = np.expand_dims(x_train, -1)\n",
    "x_test = np.expand_dims(x_test, -1)\n",
    "print(\"x_train shape:\", x_train.shape)\n",
    "print(x_train.shape[0], \"train samples\")\n",
    "print(x_test.shape[0], \"test samples\")\n",
    "\n",
    "\n",
    "# convert class vectors to binary class matrices\n",
    "y_train = tf.keras.utils.to_categorical(y_train, num_classes)\n",
    "y_test = tf.keras.utils.to_categorical(y_test, num_classes)"
   ]
  },
  {
   "cell_type": "markdown",
   "id": "fd8dcdc8",
   "metadata": {},
   "source": [
    "The two layers we'll be using are the Conv2D layer and the MaxPooling2D layer. TheConv2D layer returns a tensor with the specified dimensionality after being processed by a kernel of the specified size. The output is also determined by the activation function used for the kernel. In this case, we'll be using the 'relu' activation, which is the rectified linear unit activation function. This activation function takes in the input region and outputs the maximum between the max value in the input region and 0. "
   ]
  },
  {
   "cell_type": "markdown",
   "id": "b84c38cc",
   "metadata": {},
   "source": [
    "The MaxPooling2D layer simply finds the maximum value in the designated pool size and stores this value in a new tensor. The size of the output tensor is dependent on both the pool size and the 'strides' size. The strides argument determines how the pool is shifted over each dimension."
   ]
  },
  {
   "cell_type": "code",
   "execution_count": 10,
   "id": "4df060ad",
   "metadata": {},
   "outputs": [
    {
     "name": "stdout",
     "output_type": "stream",
     "text": [
      "Model: \"sequential\"\n",
      "_________________________________________________________________\n",
      " Layer (type)                Output Shape              Param #   \n",
      "=================================================================\n",
      " conv2d (Conv2D)             (None, 26, 26, 32)        320       \n",
      "                                                                 \n",
      " max_pooling2d (MaxPooling2D  (None, 13, 13, 32)       0         \n",
      " )                                                               \n",
      "                                                                 \n",
      " conv2d_1 (Conv2D)           (None, 11, 11, 64)        18496     \n",
      "                                                                 \n",
      " max_pooling2d_1 (MaxPooling  (None, 5, 5, 64)         0         \n",
      " 2D)                                                             \n",
      "                                                                 \n",
      " flatten (Flatten)           (None, 1600)              0         \n",
      "                                                                 \n",
      " dropout (Dropout)           (None, 1600)              0         \n",
      "                                                                 \n",
      " dense (Dense)               (None, 10)                16010     \n",
      "                                                                 \n",
      "=================================================================\n",
      "Total params: 34,826\n",
      "Trainable params: 34,826\n",
      "Non-trainable params: 0\n",
      "_________________________________________________________________\n"
     ]
    },
    {
     "name": "stderr",
     "output_type": "stream",
     "text": [
      "2021-11-26 22:19:59.713062: I tensorflow/core/platform/cpu_feature_guard.cc:151] This TensorFlow binary is optimized with oneAPI Deep Neural Network Library (oneDNN) to use the following CPU instructions in performance-critical operations:  AVX2 AVX512F FMA\n",
      "To enable them in other operations, rebuild TensorFlow with the appropriate compiler flags.\n"
     ]
    }
   ],
   "source": [
    "model = keras.Sequential(\n",
    "    [\n",
    "        keras.Input(shape=input_shape),   # Tell the model what the shape of our data is\n",
    "        layers.Conv2D(32, kernel_size=(3, 3), activation=\"relu\"),    # Our first CNN layer has a kernel size of (3,3)\n",
    "        layers.MaxPooling2D(pool_size=(2, 2)),\n",
    "        layers.Conv2D(64, kernel_size=(3, 3), activation=\"relu\"),\n",
    "        layers.MaxPooling2D(pool_size=(2, 2)),\n",
    "        layers.Flatten(),\n",
    "        layers.Dropout(0.5),\n",
    "        layers.Dense(num_classes, activation=\"softmax\"),\n",
    "    ]\n",
    ")\n",
    "\n",
    "model.summary()"
   ]
  },
  {
   "cell_type": "code",
   "execution_count": 11,
   "id": "d4e7d20d",
   "metadata": {},
   "outputs": [
    {
     "name": "stdout",
     "output_type": "stream",
     "text": [
      "Epoch 1/15\n",
      "422/422 [==============================] - 12s 29ms/step - loss: 0.3549 - accuracy: 0.8947 - val_loss: 0.0840 - val_accuracy: 0.9768\n",
      "Epoch 2/15\n",
      "422/422 [==============================] - 12s 29ms/step - loss: 0.1093 - accuracy: 0.9665 - val_loss: 0.0550 - val_accuracy: 0.9857\n",
      "Epoch 3/15\n",
      "422/422 [==============================] - 12s 29ms/step - loss: 0.0810 - accuracy: 0.9750 - val_loss: 0.0438 - val_accuracy: 0.9892\n",
      "Epoch 4/15\n",
      "422/422 [==============================] - 12s 29ms/step - loss: 0.0684 - accuracy: 0.9787 - val_loss: 0.0401 - val_accuracy: 0.9888\n",
      "Epoch 5/15\n",
      "422/422 [==============================] - 12s 29ms/step - loss: 0.0603 - accuracy: 0.9815 - val_loss: 0.0369 - val_accuracy: 0.9897\n",
      "Epoch 6/15\n",
      "422/422 [==============================] - 12s 30ms/step - loss: 0.0537 - accuracy: 0.9831 - val_loss: 0.0335 - val_accuracy: 0.9907\n",
      "Epoch 7/15\n",
      "422/422 [==============================] - 13s 30ms/step - loss: 0.0472 - accuracy: 0.9852 - val_loss: 0.0337 - val_accuracy: 0.9908\n",
      "Epoch 8/15\n",
      "422/422 [==============================] - 13s 30ms/step - loss: 0.0475 - accuracy: 0.9854 - val_loss: 0.0339 - val_accuracy: 0.9912\n",
      "Epoch 9/15\n",
      "422/422 [==============================] - 12s 27ms/step - loss: 0.0440 - accuracy: 0.9862 - val_loss: 0.0311 - val_accuracy: 0.9920\n",
      "Epoch 10/15\n",
      "422/422 [==============================] - 12s 28ms/step - loss: 0.0389 - accuracy: 0.9877 - val_loss: 0.0308 - val_accuracy: 0.9918\n",
      "Epoch 11/15\n",
      "422/422 [==============================] - 12s 28ms/step - loss: 0.0390 - accuracy: 0.9874 - val_loss: 0.0303 - val_accuracy: 0.9930\n",
      "Epoch 12/15\n",
      "422/422 [==============================] - 12s 28ms/step - loss: 0.0380 - accuracy: 0.9875 - val_loss: 0.0339 - val_accuracy: 0.9915\n",
      "Epoch 13/15\n",
      "422/422 [==============================] - 12s 28ms/step - loss: 0.0335 - accuracy: 0.9890 - val_loss: 0.0292 - val_accuracy: 0.9920\n",
      "Epoch 14/15\n",
      "422/422 [==============================] - 12s 28ms/step - loss: 0.0321 - accuracy: 0.9897 - val_loss: 0.0302 - val_accuracy: 0.9917\n",
      "Epoch 15/15\n",
      "422/422 [==============================] - 12s 28ms/step - loss: 0.0328 - accuracy: 0.9890 - val_loss: 0.0296 - val_accuracy: 0.9922\n"
     ]
    },
    {
     "data": {
      "text/plain": [
       "<keras.callbacks.History at 0x7fb3f1d07ac0>"
      ]
     },
     "execution_count": 11,
     "metadata": {},
     "output_type": "execute_result"
    }
   ],
   "source": [
    "batch_size = 128\n",
    "epochs = 15\n",
    "\n",
    "model.compile(loss=\"categorical_crossentropy\", optimizer=\"adam\", metrics=[\"accuracy\"])\n",
    "\n",
    "model.fit(x_train, y_train, batch_size=batch_size, epochs=epochs, validation_split=0.1)"
   ]
  },
  {
   "cell_type": "code",
   "execution_count": 12,
   "id": "8e11705e",
   "metadata": {},
   "outputs": [
    {
     "name": "stdout",
     "output_type": "stream",
     "text": [
      "Test loss: 0.02372780628502369\n",
      "Test accuracy: 0.9921000003814697\n"
     ]
    }
   ],
   "source": [
    "score = model.evaluate(x_test, y_test, verbose=0)\n",
    "print(\"Test loss:\", score[0])\n",
    "print(\"Test accuracy:\", score[1])"
   ]
  },
  {
   "cell_type": "code",
   "execution_count": null,
   "id": "1d1459e0",
   "metadata": {},
   "outputs": [],
   "source": []
  },
  {
   "cell_type": "code",
   "execution_count": null,
   "id": "bb929c4f",
   "metadata": {},
   "outputs": [],
   "source": []
  },
  {
   "cell_type": "markdown",
   "id": "1656536b",
   "metadata": {},
   "source": [
    "Convolutional function used: tf.keras.layers.Conv2D. What does this function do? It takes as its arguments the filters, the kernel size, the strides, and other parameters of the convolutional layer you want to make."
   ]
  },
  {
   "cell_type": "markdown",
   "id": "c726e6ba",
   "metadata": {},
   "source": [
    "# Source cited\n",
    "\n",
    "https://towardsdatascience.com/a-comprehensive-guide-to-convolutional-neural-networks-the-eli5-way-3bd2b1164a53\n",
    "\n",
    "https://github.com/ss-is-master-chief/MNIST-Digit.Recognizer-CNNs/blob/master/MNIST-Hand.Written.Digit.Recognition-CNN.ipynb"
   ]
  }
 ],
 "metadata": {
  "kernelspec": {
   "display_name": "Python 3 (ipykernel)",
   "language": "python",
   "name": "python3"
  },
  "language_info": {
   "codemirror_mode": {
    "name": "ipython",
    "version": 3
   },
   "file_extension": ".py",
   "mimetype": "text/x-python",
   "name": "python",
   "nbconvert_exporter": "python",
   "pygments_lexer": "ipython3",
   "version": "3.8.11"
  }
 },
 "nbformat": 4,
 "nbformat_minor": 5
}
