{
 "cells": [
  {
   "cell_type": "code",
   "execution_count": 1,
   "id": "e968b91c",
   "metadata": {},
   "outputs": [],
   "source": [
    "import numpy as np\n",
    "import matplotlib.pyplot as plt\n",
    "from sklearn.datasets import fetch_openml\n",
    "from sklearn.metrics import classification_report\n",
    "from sklearn.metrics import confusion_matrix\n",
    "from sklearn.svm import SVC\n",
    "from sklearn.model_selection import train_test_split"
   ]
  },
  {
   "cell_type": "markdown",
   "id": "55d0fa7a",
   "metadata": {},
   "source": [
    "# Loading in the MNIST Dataset"
   ]
  },
  {
   "cell_type": "code",
   "execution_count": 2,
   "id": "0e33bfdf",
   "metadata": {},
   "outputs": [],
   "source": [
    "# I referenced the answer at https://stackoverflow.com/questions/47324921/cant-load-mnist-original-dataset-using-sklearn\n",
    "# to figure out how to load the full size MNIST dataset using sklearn.\n",
    "# Accessed 12/7/21\n",
    "mnist = fetch_openml('mnist_784')"
   ]
  },
  {
   "cell_type": "code",
   "execution_count": 3,
   "id": "13d5a418",
   "metadata": {},
   "outputs": [],
   "source": [
    "mnist_array = np.array(mnist.data) # Converting the data to a NumPy array"
   ]
  },
  {
   "cell_type": "code",
   "execution_count": 4,
   "id": "0e8a8f43",
   "metadata": {},
   "outputs": [],
   "source": [
    "mnist_array = mnist_array.reshape((70000, 28 * 28)) # Vectorizing the images"
   ]
  },
  {
   "cell_type": "code",
   "execution_count": 5,
   "id": "b1b43e3d",
   "metadata": {},
   "outputs": [],
   "source": [
    "mnist_labels = np.array(mnist.target, dtype='int32') # Turning the labels into an array of integers"
   ]
  },
  {
   "cell_type": "code",
   "execution_count": 6,
   "id": "3ed2a78c",
   "metadata": {},
   "outputs": [],
   "source": [
    "x_train, x_test, y_train, y_test = train_test_split(mnist_array, mnist_labels) # Splitting training and testing data"
   ]
  },
  {
   "cell_type": "code",
   "execution_count": 7,
   "id": "09808163",
   "metadata": {},
   "outputs": [],
   "source": [
    "clf = SVC() # Initializing an SVM"
   ]
  },
  {
   "cell_type": "code",
   "execution_count": 8,
   "id": "bfb279c6",
   "metadata": {
    "scrolled": true
   },
   "outputs": [
    {
     "data": {
      "text/plain": [
       "SVC()"
      ]
     },
     "execution_count": 8,
     "metadata": {},
     "output_type": "execute_result"
    }
   ],
   "source": [
    "clf.fit(x_train, y_train) # Fitting the SVM on the training data"
   ]
  },
  {
   "cell_type": "code",
   "execution_count": 9,
   "id": "8ea9736d",
   "metadata": {},
   "outputs": [],
   "source": [
    "preds = clf.predict(x_test) # Making predictions for the testing data"
   ]
  },
  {
   "cell_type": "code",
   "execution_count": 10,
   "id": "51b6297a",
   "metadata": {},
   "outputs": [
    {
     "name": "stdout",
     "output_type": "stream",
     "text": [
      "              precision    recall  f1-score   support\n",
      "\n",
      "           0       0.99      0.99      0.99      1746\n",
      "           1       0.98      0.99      0.99      1953\n",
      "           2       0.97      0.98      0.97      1701\n",
      "           3       0.97      0.96      0.97      1786\n",
      "           4       0.98      0.98      0.98      1681\n",
      "           5       0.98      0.98      0.98      1640\n",
      "           6       0.99      0.99      0.99      1646\n",
      "           7       0.98      0.98      0.98      1866\n",
      "           8       0.98      0.97      0.97      1726\n",
      "           9       0.98      0.97      0.97      1755\n",
      "\n",
      "    accuracy                           0.98     17500\n",
      "   macro avg       0.98      0.98      0.98     17500\n",
      "weighted avg       0.98      0.98      0.98     17500\n",
      "\n",
      "[[1731    2    1    1    1    1    5    0    4    0]\n",
      " [   0 1938    7    0    0    0    1    2    3    2]\n",
      " [   4    7 1662    6    1    1    2    9    6    3]\n",
      " [   0    1   20 1721    2   14    1    9   14    4]\n",
      " [   1    5    1    0 1650    1    5    5    0   13]\n",
      " [   4    3    1   19    0 1602    4    0    4    3]\n",
      " [   6    2    1    0    2    9 1625    0    1    0]\n",
      " [   0    6   11    0   11    1    0 1821    2   14]\n",
      " [   4   10    7   10    4    8    3    4 1673    3]\n",
      " [   2    5    0   10   19    4    0   14    7 1694]]\n"
     ]
    }
   ],
   "source": [
    "# Printing out performance metrics\n",
    "print(classification_report(y_test, preds))\n",
    "print(confusion_matrix(y_test, preds))"
   ]
  },
  {
   "cell_type": "markdown",
   "id": "ed8163eb",
   "metadata": {},
   "source": [
    "The SVM attains a 98% accuracy, which is very high. In this case, it seems unnecessary to do a hyperparameter search, as the default values give a model with about the highest accuracy we could reasonably expect, performing comparably to the MLP and almost as well as the CNN, which is impressive as it is a much simpler model."
   ]
  }
 ],
 "metadata": {
  "kernelspec": {
   "display_name": "Python 3",
   "language": "python",
   "name": "python3"
  },
  "language_info": {
   "codemirror_mode": {
    "name": "ipython",
    "version": 3
   },
   "file_extension": ".py",
   "mimetype": "text/x-python",
   "name": "python",
   "nbconvert_exporter": "python",
   "pygments_lexer": "ipython3",
   "version": "3.8.8"
  }
 },
 "nbformat": 4,
 "nbformat_minor": 5
}
