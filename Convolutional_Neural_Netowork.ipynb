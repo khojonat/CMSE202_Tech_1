{
 "cells": [
  {
   "cell_type": "markdown",
   "id": "bc7861bd",
   "metadata": {},
   "source": [
    "Jonathan, Greg, Sara, Evan"
   ]
  },
  {
   "cell_type": "markdown",
   "id": "928c09ee",
   "metadata": {},
   "source": [
    "Digit recognition methods: 1 layer perceptron, multi-layer perceptron, CNNS, Scuffed comparison method (Evan's idea), zoning?"
   ]
  }
 ],
 "metadata": {
  "kernelspec": {
   "display_name": "Python 3 (ipykernel)",
   "language": "python",
   "name": "python3"
  },
  "language_info": {
   "codemirror_mode": {
    "name": "ipython",
    "version": 3
   },
   "file_extension": ".py",
   "mimetype": "text/x-python",
   "name": "python",
   "nbconvert_exporter": "python",
   "pygments_lexer": "ipython3",
   "version": "3.8.11"
  }
 },
 "nbformat": 4,
 "nbformat_minor": 5
}
